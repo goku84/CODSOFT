{
  "nbformat": 4,
  "nbformat_minor": 0,
  "metadata": {
    "colab": {
      "provenance": []
    },
    "kernelspec": {
      "name": "python3",
      "display_name": "Python 3"
    },
    "language_info": {
      "name": "python"
    }
  },
  "cells": [
    {
      "cell_type": "code",
      "execution_count": 1,
      "metadata": {
        "colab": {
          "base_uri": "https://localhost:8080/"
        },
        "id": "jzmvmNRhUd2Q",
        "outputId": "509f9d62-c24e-44b5-fee1-70f15f9449d5"
      },
      "outputs": [
        {
          "output_type": "stream",
          "name": "stdout",
          "text": [
            "8\n",
            "5\n",
            "12\n",
            "5.0\n",
            "Cannot divide by zero\n"
          ]
        }
      ],
      "source": [
        "def add(num1, num2):\n",
        "    return num1 + num2\n",
        "\n",
        "def subtract(num1, num2):\n",
        "    return num1 - num2\n",
        "\n",
        "def multiply(num1, num2):\n",
        "    return num1 * num2\n",
        "\n",
        "def divide(num1, num2):\n",
        "    if num2 != 0:\n",
        "        return num1 / num2\n",
        "    else:\n",
        "        return \"Cannot divide by zero\"\n",
        "\n",
        "print(add(5, 3))\n",
        "print(subtract(9, 4))\n",
        "print(multiply(2, 6))\n",
        "print(divide(10, 2))\n",
        "print(divide(8, 0))"
      ]
    }
  ]
}