{
  "nbformat": 4,
  "nbformat_minor": 0,
  "metadata": {
    "colab": {
      "provenance": []
    },
    "kernelspec": {
      "name": "python3",
      "display_name": "Python 3"
    },
    "language_info": {
      "name": "python"
    }
  },
  "cells": [
    {
      "cell_type": "code",
      "execution_count": 1,
      "metadata": {
        "colab": {
          "base_uri": "https://localhost:8080/"
        },
        "id": "sTiyNqO5VfbI",
        "outputId": "63a5a697-d6b8-437c-82be-6c8c7173a7a6"
      },
      "outputs": [
        {
          "output_type": "stream",
          "name": "stdout",
          "text": [
            "Enter your choice (rock, paper, or scissors): rock\n",
            "You chose: rock\n",
            "Codsoft chose: paper\n",
            "Codsoft wins!\n"
          ]
        }
      ],
      "source": [
        "import random\n",
        "\n",
        "def play_game():\n",
        "    choices = [\"rock\", \"paper\", \"scissors\"]\n",
        "    codsoft_choice = random.choice(choices)\n",
        "    user_choice = input(\"Enter your choice (rock, paper, or scissors): \")\n",
        "\n",
        "    print(\"You chose:\", user_choice)\n",
        "    print(\"Codsoft chose:\", codsoft_choice)\n",
        "\n",
        "    if user_choice == codsoft_choice:\n",
        "        print(\"It's a tie!\")\n",
        "    elif user_choice == \"rock\":\n",
        "        if codsoft_choice == \"paper\":\n",
        "            print(\"Codsoft wins!\")\n",
        "        else:\n",
        "            print(\"You win!\")\n",
        "    elif user_choice == \"paper\":\n",
        "        if codsoft_choice == \"scissors\":\n",
        "            print(\"Codsoft wins!\")\n",
        "        else:\n",
        "            print(\"You win!\")\n",
        "    elif user_choice == \"scissors\":\n",
        "        if codsoft_choice == \"rock\":\n",
        "            print(\"Codsoft wins!\")\n",
        "        else:\n",
        "            print(\"You win!\")\n",
        "    else:\n",
        "        print(\"Invalid choice. Please try again.\")\n",
        "\n",
        "play_game()\n"
      ]
    }
  ]
}