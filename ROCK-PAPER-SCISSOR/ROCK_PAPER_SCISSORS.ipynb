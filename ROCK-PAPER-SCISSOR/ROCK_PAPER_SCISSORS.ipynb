{
  "cells": [
    {
      "cell_type": "code",
      "execution_count": null,
      "metadata": {
        "colab": {
          "background_save": true,
          "base_uri": "https://localhost:8080/"
        },
        "id": "wz2msZzebTy8",
        "outputId": "4eccc3b0-2568-45ab-be61-c5581c66d29c"
      },
      "outputs": [
        {
          "name": "stdout",
          "output_type": "stream",
          "text": [
            "Welcome to Rock-Paper-Scissors Game!\n",
            "\n",
            "Your choice: rock\n",
            "Codsoft choice: scissors\n",
            "Result: winner winner chicken dinner\n",
            "\n",
            "Score - You: 1, Computer: 0\n",
            "\n",
            "Your choice: paper\n",
            "Codsoft choice: rock\n",
            "Result: winner winner chicken dinner\n",
            "\n",
            "Score - You: 2, Computer: 0\n",
            "\n",
            "Your choice: scissors\n",
            "Codsoft choice: paper\n",
            "Result: winner winner chicken dinner\n",
            "\n",
            "Score - You: 3, Computer: 0\n",
            "\n",
            "Your choice: paper\n",
            "Codsoft choice: rock\n",
            "Result: winner winner chicken dinner\n",
            "\n",
            "Score - You: 4, Computer: 0\n",
            "\n",
            "Your choice: paper\n",
            "Codsoft choice: scissors\n",
            "Result: better luck nexttime\n",
            "\n",
            "Score - You: 4, Computer: 0\n"
          ]
        }
      ],
      "source": [
        "import random\n",
        "\n",
        "def get_user_choice():\n",
        "    while True:\n",
        "        user_choice = input(\"Choose rock, paper, or scissors: \").lower()\n",
        "        if user_choice in ['rock', 'paper', 'scissors']:\n",
        "            return user_choice\n",
        "        else:\n",
        "            print(\"Invalid choice. Please choose rock, paper, or scissors.\")\n",
        "\n",
        "def get_codsoft_choice():\n",
        "    return random.choice(['rock', 'paper', 'scissors'])\n",
        "\n",
        "def determine_winner(user_choice, codsoft_choice):\n",
        "    if user_choice == codsoft_choice:\n",
        "        return 'It\\'s a tie!'\n",
        "    elif (\n",
        "        (user_choice == 'rock' and codsoft_choice == 'scissors') or\n",
        "        (user_choice == 'scissors' and codsoft_choice == 'paper') or\n",
        "        (user_choice == 'paper' and codsoft_choice == 'rock')\n",
        "    ):\n",
        "        return 'winner winner chicken dinner'\n",
        "    else:\n",
        "        return 'better luck nexttime'\n",
        "\n",
        "def display_result(user_choice, codsoft_choice, result):\n",
        "    print(f\"\\nYour choice: {user_choice}\")\n",
        "    print(f\"Codsoft choice: {codsoft_choice}\")\n",
        "    print(f\"Result: {result}\\n\")\n",
        "\n",
        "def play_game():\n",
        "    user_score = 0\n",
        "    codsoft_score = 0\n",
        "\n",
        "    while True:\n",
        "        user_choice = get_user_choice()\n",
        "        codsoft_choice = get_codsoft_choice()\n",
        "\n",
        "        result = determine_winner(user_choice, codsoft_choice)\n",
        "        display_result(user_choice, codsoft_choice, result)\n",
        "\n",
        "        if 'win' in result:\n",
        "            user_score += 1\n",
        "        elif 'lose' in result:\n",
        "            codsoft_score += 1\n",
        "\n",
        "        print(f\"Score - You: {user_score}, Computer: {codsoft_score}\")\n",
        "\n",
        "        play_again = input(\"Do you want to play again? (yes/no): \").lower()\n",
        "        if play_again != 'yes':\n",
        "            print(\"Thanks for playing again\")\n",
        "            break\n",
        "\n",
        "if __name__ == \"__main__\":\n",
        "    print(\"Welcome to Rock-Paper-Scissors Game!\")\n",
        "    play_game()\n"
      ]
    }
  ],
  "metadata": {
    "colab": {
      "provenance": []
    },
    "kernelspec": {
      "display_name": "Python 3",
      "name": "python3"
    },
    "language_info": {
      "name": "python"
    }
  },
  "nbformat": 4,
  "nbformat_minor": 0
}